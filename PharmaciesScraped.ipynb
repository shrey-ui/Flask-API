{
 "cells": [
  {
   "cell_type": "code",
   "execution_count": null,
   "id": "f137325a",
   "metadata": {},
   "outputs": [
    {
     "name": "stdout",
     "output_type": "stream",
     "text": [
      " * Serving Flask app \"__main__\" (lazy loading)\n",
      " * Environment: production\n",
      "   WARNING: This is a development server. Do not use it in a production deployment.\n",
      "   Use a production WSGI server instead.\n",
      " * Debug mode: on\n"
     ]
    },
    {
     "name": "stderr",
     "output_type": "stream",
     "text": [
      " * Running on http://127.0.0.1:5000/ (Press CTRL+C to quit)\n"
     ]
    },
    {
     "name": "stdout",
     "output_type": "stream",
     "text": [
      "Greater Noida\n"
     ]
    },
    {
     "name": "stderr",
     "output_type": "stream",
     "text": [
      "127.0.0.1 - - [27/Dec/2022 15:43:58] \"\u001b[37mPOST /predict_api HTTP/1.1\u001b[0m\" 200 -\n"
     ]
    },
    {
     "name": "stdout",
     "output_type": "stream",
     "text": [
      "Noida\n"
     ]
    },
    {
     "name": "stderr",
     "output_type": "stream",
     "text": [
      "127.0.0.1 - - [27/Dec/2022 15:44:12] \"\u001b[35m\u001b[1mPOST /predict_api HTTP/1.1\u001b[0m\" 500 -\n",
      "Traceback (most recent call last):\n",
      "  File \"C:\\Users\\smurk\\anaconda3\\Lib\\site-packages\\flask\\app.py\", line 2464, in __call__\n",
      "    return self.wsgi_app(environ, start_response)\n",
      "  File \"C:\\Users\\smurk\\anaconda3\\Lib\\site-packages\\flask\\app.py\", line 2450, in wsgi_app\n",
      "    response = self.handle_exception(e)\n",
      "  File \"C:\\Users\\smurk\\anaconda3\\Lib\\site-packages\\flask\\app.py\", line 1867, in handle_exception\n",
      "    reraise(exc_type, exc_value, tb)\n",
      "  File \"C:\\Users\\smurk\\anaconda3\\Lib\\site-packages\\flask\\_compat.py\", line 39, in reraise\n",
      "    raise value\n",
      "  File \"C:\\Users\\smurk\\anaconda3\\Lib\\site-packages\\flask\\app.py\", line 2447, in wsgi_app\n",
      "    response = self.full_dispatch_request()\n",
      "  File \"C:\\Users\\smurk\\anaconda3\\Lib\\site-packages\\flask\\app.py\", line 1952, in full_dispatch_request\n",
      "    rv = self.handle_user_exception(e)\n",
      "  File \"C:\\Users\\smurk\\anaconda3\\Lib\\site-packages\\flask\\app.py\", line 1821, in handle_user_exception\n",
      "    reraise(exc_type, exc_value, tb)\n",
      "  File \"C:\\Users\\smurk\\anaconda3\\Lib\\site-packages\\flask\\_compat.py\", line 39, in reraise\n",
      "    raise value\n",
      "  File \"C:\\Users\\smurk\\anaconda3\\Lib\\site-packages\\flask\\app.py\", line 1950, in full_dispatch_request\n",
      "    rv = self.dispatch_request()\n",
      "  File \"C:\\Users\\smurk\\anaconda3\\Lib\\site-packages\\flask\\app.py\", line 1936, in dispatch_request\n",
      "    return self.view_functions[rule.endpoint](**req.view_args)\n",
      "  File \"<ipython-input-11-c6a93c8f8953>\", line 47, in predict_api\n",
      "    \n",
      "  File \"C:\\Users\\smurk\\anaconda3\\Lib\\site-packages\\pandas\\core\\frame.py\", line 3040, in __setitem__\n",
      "    self._set_item(key, value)\n",
      "  File \"C:\\Users\\smurk\\anaconda3\\Lib\\site-packages\\pandas\\core\\frame.py\", line 3116, in _set_item\n",
      "    value = self._sanitize_column(key, value)\n",
      "  File \"C:\\Users\\smurk\\anaconda3\\Lib\\site-packages\\pandas\\core\\frame.py\", line 3764, in _sanitize_column\n",
      "    value = sanitize_index(value, self.index)\n",
      "  File \"C:\\Users\\smurk\\anaconda3\\Lib\\site-packages\\pandas\\core\\internals\\construction.py\", line 747, in sanitize_index\n",
      "    raise ValueError(\n",
      "ValueError: Length of values (8) does not match length of index (10)\n"
     ]
    },
    {
     "name": "stdout",
     "output_type": "stream",
     "text": [
      "Vaishali\n"
     ]
    },
    {
     "name": "stderr",
     "output_type": "stream",
     "text": [
      "127.0.0.1 - - [27/Dec/2022 15:45:34] \"\u001b[37mPOST /predict_api HTTP/1.1\u001b[0m\" 200 -\n"
     ]
    }
   ],
   "source": [
    "from copyreg import pickle\n",
    "from django.shortcuts import render\n",
    "from flask import Flask, request, app, jsonify, url_for, render_template\n",
    "import numpy as np\n",
    "import pandas as pd\n",
    "import pickle\n",
    "import requests\n",
    "from bs4 import BeautifulSoup as bs\n",
    "import sqlite3\n",
    "import pandas as pd\n",
    "\n",
    "\n",
    "app= Flask(__name__)\n",
    "\n",
    "@app.route('/')\n",
    "def home():\n",
    "    return render_template('home.html')\n",
    "\n",
    "@app.route('/predict_api', methods= ['POST'])\n",
    "\n",
    "def predict_api():\n",
    "    header= {'User-Agent': 'Mozilla/5.0 (Windows NT 10.0; Win64; x64) AppleWebKit/537.36 (KHTML, like Gecko) Chrome/96.0.4664.45 Safari/537.36'}\n",
    "    location= request.json['data']\n",
    "    print(location)\n",
    "    web_sw= requests.get('https://www.justdial.com/Delhi/Generic-Medicine-Retailers-in-{}/nct-11205407'.format(location), headers= header).text\n",
    "    content= bs(web_sw, 'lxml')\n",
    "    #print(web_sw)\n",
    "    import numpy as np\n",
    "    df= pd.DataFrame(columns= ['Name', 'Address', 'Distance', 'Rating'])\n",
    "    name_list= []\n",
    "    add_list= []\n",
    "    dist_list= []\n",
    "    rate_list= []\n",
    "    for x in content.find_all('span', class_ ='lng_cont_name'):\n",
    "        name_list.append(x.text)\n",
    "    for k in content.find_all('span', class_= 'cont_fl_addr'):\n",
    "        add_list.append(k.text)\n",
    "        \n",
    "    for dist in content.find_all('span', class_= 'distnctxt lng_commn'):\n",
    "        dist_list.append(dist.text)\n",
    "\n",
    "    for rate in content.find_all('span', class_ ='green-box'):\n",
    "        rate_list.append(rate.text)\n",
    "\n",
    "    df['Name']= np.array(name_list)\n",
    "    df['Address']= np.array(add_list)\n",
    "    df['Distance']= np.array(dist_list)\n",
    "    df['Rating']= np.array(rate_list)\n",
    "    \n",
    "    df= df.to_dict()\n",
    "    return jsonify(df)\n",
    "\n",
    "if __name__ == '__main__':\n",
    "    app.run(debug= True, use_reloader= False)"
   ]
  }
 ],
 "metadata": {
  "kernelspec": {
   "display_name": "Python 3",
   "language": "python",
   "name": "python3"
  },
  "language_info": {
   "codemirror_mode": {
    "name": "ipython",
    "version": 3
   },
   "file_extension": ".py",
   "mimetype": "text/x-python",
   "name": "python",
   "nbconvert_exporter": "python",
   "pygments_lexer": "ipython3",
   "version": "3.8.5"
  }
 },
 "nbformat": 4,
 "nbformat_minor": 5
}
