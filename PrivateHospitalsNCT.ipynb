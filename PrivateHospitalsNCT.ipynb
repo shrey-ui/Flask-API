{
 "cells": [
  {
   "cell_type": "code",
   "execution_count": null,
   "id": "2f9e964c",
   "metadata": {},
   "outputs": [
    {
     "name": "stdout",
     "output_type": "stream",
     "text": [
      " * Serving Flask app \"__main__\" (lazy loading)\n",
      " * Environment: production\n",
      "   WARNING: This is a development server. Do not use it in a production deployment.\n",
      "   Use a production WSGI server instead.\n",
      " * Debug mode: on\n"
     ]
    },
    {
     "name": "stderr",
     "output_type": "stream",
     "text": [
      " * Running on http://127.0.0.1:5000/ (Press CTRL+C to quit)\n"
     ]
    }
   ],
   "source": [
    "from copyreg import pickle\n",
    "from django.shortcuts import render\n",
    "from flask import Flask, request, app, jsonify, url_for, render_template\n",
    "import numpy as np\n",
    "import pandas as pd\n",
    "import pickle\n",
    "import requests\n",
    "from bs4 import BeautifulSoup as bs\n",
    "import sqlite3\n",
    "import pandas as pd\n",
    "\n",
    "\n",
    "app= Flask(__name__)\n",
    "@app.route('/predict_api', methods =['POST'])\n",
    "\n",
    "def predict_api():\n",
    "    header= {'User-Agent': 'Mozilla/5.0 (Windows NT 10.0; Win64; x64) AppleWebKit/537.36 (KHTML, like Gecko) Chrome/96.0.4664.45 Safari/537.36'}\n",
    "    location= request.json['data']\n",
    "    print(location)\n",
    "    web_sw= requests.get('https://www.justdial.com/Delhi/Private-Hospitals-in-{}/nct-10390288'.format(location), headers= header).text\n",
    "    content= bs(web_sw, 'lxml')\n",
    "    import numpy as np\n",
    "    df= pd.DataFrame(columns= ['Name', 'Address','Rating'])\n",
    "    name_list= []\n",
    "    add_list= []\n",
    "    dist_list= []\n",
    "    rate_list= []\n",
    "    for x in content.find_all('span', class_ ='lng_cont_name'):\n",
    "        name_list.append(x.text)\n",
    "        \n",
    "    for k in content.find_all('span', class_= 'cont_fl_addr'):\n",
    "        add_list.append(k.text)\n",
    "        \n",
    "    #for dist in content.find_all('span', class_= 'distnctxt lng_commn'):\n",
    "     #   dist_list.append(dist.text)\n",
    "\n",
    "    for rate in content.find_all('span', class_ ='exrt_count'):\n",
    "        rate_list.append(rate.text)\n",
    "    \n",
    "    df['Name']= np.array(name_list)\n",
    "    df['Address']= np.array(add_list)\n",
    "    #df['Distance']= np.array(dist_list)\n",
    "    df['Rating']= np.array(rate_list)\n",
    "    df= df.to_dict()\n",
    "    return jsonify(df)\n",
    "\n",
    "if __name__ == '__main__':\n",
    "    app.run(debug= True, use_reloader= False)"
   ]
  }
 ],
 "metadata": {
  "kernelspec": {
   "display_name": "Python 3",
   "language": "python",
   "name": "python3"
  },
  "language_info": {
   "codemirror_mode": {
    "name": "ipython",
    "version": 3
   },
   "file_extension": ".py",
   "mimetype": "text/x-python",
   "name": "python",
   "nbconvert_exporter": "python",
   "pygments_lexer": "ipython3",
   "version": "3.8.5"
  }
 },
 "nbformat": 4,
 "nbformat_minor": 5
}
